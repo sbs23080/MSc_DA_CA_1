{
 "cells": [
  {
   "cell_type": "markdown",
   "id": "22d037d8",
   "metadata": {},
   "source": [
    "# Integrated Continuous Assessment 1\n",
    "### Kalina Cmuchalska\n",
    "#### SBS23080\n",
    "---\n",
    "#### Table of Content\n",
    "1. [Data Perparation](#Data-Preparation)\n",
    "    1. [Estimated population dataset](#Estimated-population-dataset)\n",
    "    2. [Estimated immigration dataset](#Estimated-immigration-dataset)\n",
    "    3. [Estimated emigration dataset](#Estimated-emigration-dataset)\n",
    "2. [Exploratory Data Analysis (EDA)](#Exploratory-Data-Analysis)\n",
    "3. [Statistical Analysis](#Statistical-Analysis)\n",
    "    1. [Descriptive Statistics](#Descriptive-statistics)\n",
    "    2. [Binomal Distribution](#Binomal-Distribution)\n",
    "    3. [Poisson Distribution](#Poisson-Distribution)\n",
    "    4. [Normal Distribution](#Normal-Distribution)\n",
    "4. [Machine Learning Analysis](#Machine-Learning-Analysis)\n",
    "---"
   ]
  },
  {
   "cell_type": "markdown",
   "id": "813485e0",
   "metadata": {},
   "source": [
    "# Data Preparation\n",
    "---"
   ]
  },
  {
   "cell_type": "code",
   "execution_count": 2,
   "id": "75e6676f",
   "metadata": {},
   "outputs": [],
   "source": [
    "# imprting required libraries\n",
    "import pandas as pd\n",
    "import numpy as np\n",
    "import seaborn as sns\n",
    "import os"
   ]
  },
  {
   "cell_type": "code",
   "execution_count": 91,
   "id": "739763aa",
   "metadata": {},
   "outputs": [
    {
     "name": "stdout",
     "output_type": "stream",
     "text": [
      "datasets\\estimated_emigration_2006_2023\\PEA23.20231011T231143.csv\n",
      "datasets\\estimated_immigration_1996_2023\\PEA24.20231011T231141.csv\n",
      "datasets\\estimated_population_2011_2023\\PEA04.20231011T231134.csv\n"
     ]
    }
   ],
   "source": [
    "# get paths for datasets\n",
    "for dirname, _, filenames in os.walk('datasets'):\n",
    "    for filename in filenames:\n",
    "        print(os.path.join(dirname, filename))"
   ]
  },
  {
   "cell_type": "code",
   "execution_count": 93,
   "id": "2021fe0c",
   "metadata": {},
   "outputs": [],
   "source": [
    "#read datasets\n",
    "df_est_population = pd.read_csv('datasets\\estimated_population_2011_2023\\PEA04.20231011T231134.csv')\n",
    "df_est_immigration = pd.read_csv('datasets\\estimated_immigration_1996_2023\\PEA24.20231011T231141.csv')\n",
    "df_est_emigration = pd.read_csv('datasets\\estimated_emigration_2006_2023\\PEA23.20231011T231143.csv')"
   ]
  },
  {
   "cell_type": "markdown",
   "id": "f607ad1d",
   "metadata": {},
   "source": [
    "> ## Estimated population dataset"
   ]
  },
  {
   "cell_type": "code",
   "execution_count": 94,
   "id": "be7be24b",
   "metadata": {},
   "outputs": [
    {
     "data": {
      "text/plain": [
       "(6669, 7)"
      ]
     },
     "execution_count": 94,
     "metadata": {},
     "output_type": "execute_result"
    }
   ],
   "source": [
    "df_est_population.shape"
   ]
  },
  {
   "cell_type": "code",
   "execution_count": 95,
   "id": "6b3f56ed",
   "metadata": {},
   "outputs": [
    {
     "name": "stdout",
     "output_type": "stream",
     "text": [
      "<class 'pandas.core.frame.DataFrame'>\n",
      "RangeIndex: 6669 entries, 0 to 6668\n",
      "Data columns (total 7 columns):\n",
      " #   Column           Non-Null Count  Dtype  \n",
      "---  ------           --------------  -----  \n",
      " 0   STATISTIC Label  6669 non-null   object \n",
      " 1   Year             6669 non-null   int64  \n",
      " 2   Age Group        6669 non-null   object \n",
      " 3   Sex              6669 non-null   object \n",
      " 4   Region           6669 non-null   object \n",
      " 5   UNIT             6669 non-null   object \n",
      " 6   VALUE            6669 non-null   float64\n",
      "dtypes: float64(1), int64(1), object(5)\n",
      "memory usage: 364.8+ KB\n"
     ]
    }
   ],
   "source": [
    "df_est_population.info()"
   ]
  },
  {
   "cell_type": "code",
   "execution_count": 96,
   "id": "04d6df1e",
   "metadata": {},
   "outputs": [
    {
     "data": {
      "text/plain": [
       "(6669, 7)"
      ]
     },
     "execution_count": 96,
     "metadata": {},
     "output_type": "execute_result"
    }
   ],
   "source": [
    "#shape of the data (no of rows, no of cols)\n",
    "df_est_population.shape"
   ]
  },
  {
   "cell_type": "code",
   "execution_count": 97,
   "id": "844b652b",
   "metadata": {},
   "outputs": [
    {
     "data": {
      "text/plain": [
       "Index(['STATISTIC Label', 'Year', 'Age Group', 'Sex', 'Region', 'UNIT',\n",
       "       'VALUE'],\n",
       "      dtype='object')"
      ]
     },
     "execution_count": 97,
     "metadata": {},
     "output_type": "execute_result"
    }
   ],
   "source": [
    "#list the columns from dataset\n",
    "df_est_population.columns"
   ]
  },
  {
   "cell_type": "code",
   "execution_count": 98,
   "id": "62446e53",
   "metadata": {},
   "outputs": [
    {
     "data": {
      "text/html": [
       "<div>\n",
       "<style scoped>\n",
       "    .dataframe tbody tr th:only-of-type {\n",
       "        vertical-align: middle;\n",
       "    }\n",
       "\n",
       "    .dataframe tbody tr th {\n",
       "        vertical-align: top;\n",
       "    }\n",
       "\n",
       "    .dataframe thead th {\n",
       "        text-align: right;\n",
       "    }\n",
       "</style>\n",
       "<table border=\"1\" class=\"dataframe\">\n",
       "  <thead>\n",
       "    <tr style=\"text-align: right;\">\n",
       "      <th></th>\n",
       "      <th>STATISTIC Label</th>\n",
       "      <th>Year</th>\n",
       "      <th>Age Group</th>\n",
       "      <th>Sex</th>\n",
       "      <th>Region</th>\n",
       "      <th>UNIT</th>\n",
       "      <th>VALUE</th>\n",
       "    </tr>\n",
       "  </thead>\n",
       "  <tbody>\n",
       "    <tr>\n",
       "      <th>0</th>\n",
       "      <td>Estimated Population (Persons in April)</td>\n",
       "      <td>2011</td>\n",
       "      <td>0 - 4 years</td>\n",
       "      <td>Both sexes</td>\n",
       "      <td>State</td>\n",
       "      <td>Thousand</td>\n",
       "      <td>356.0</td>\n",
       "    </tr>\n",
       "    <tr>\n",
       "      <th>1</th>\n",
       "      <td>Estimated Population (Persons in April)</td>\n",
       "      <td>2011</td>\n",
       "      <td>0 - 4 years</td>\n",
       "      <td>Both sexes</td>\n",
       "      <td>Border</td>\n",
       "      <td>Thousand</td>\n",
       "      <td>30.7</td>\n",
       "    </tr>\n",
       "    <tr>\n",
       "      <th>2</th>\n",
       "      <td>Estimated Population (Persons in April)</td>\n",
       "      <td>2011</td>\n",
       "      <td>0 - 4 years</td>\n",
       "      <td>Both sexes</td>\n",
       "      <td>West</td>\n",
       "      <td>Thousand</td>\n",
       "      <td>32.6</td>\n",
       "    </tr>\n",
       "    <tr>\n",
       "      <th>3</th>\n",
       "      <td>Estimated Population (Persons in April)</td>\n",
       "      <td>2011</td>\n",
       "      <td>0 - 4 years</td>\n",
       "      <td>Both sexes</td>\n",
       "      <td>Mid-West</td>\n",
       "      <td>Thousand</td>\n",
       "      <td>35.0</td>\n",
       "    </tr>\n",
       "    <tr>\n",
       "      <th>4</th>\n",
       "      <td>Estimated Population (Persons in April)</td>\n",
       "      <td>2011</td>\n",
       "      <td>0 - 4 years</td>\n",
       "      <td>Both sexes</td>\n",
       "      <td>South-East</td>\n",
       "      <td>Thousand</td>\n",
       "      <td>32.0</td>\n",
       "    </tr>\n",
       "  </tbody>\n",
       "</table>\n",
       "</div>"
      ],
      "text/plain": [
       "                           STATISTIC Label  Year    Age Group         Sex  \\\n",
       "0  Estimated Population (Persons in April)  2011  0 - 4 years  Both sexes   \n",
       "1  Estimated Population (Persons in April)  2011  0 - 4 years  Both sexes   \n",
       "2  Estimated Population (Persons in April)  2011  0 - 4 years  Both sexes   \n",
       "3  Estimated Population (Persons in April)  2011  0 - 4 years  Both sexes   \n",
       "4  Estimated Population (Persons in April)  2011  0 - 4 years  Both sexes   \n",
       "\n",
       "       Region      UNIT  VALUE  \n",
       "0       State  Thousand  356.0  \n",
       "1      Border  Thousand   30.7  \n",
       "2        West  Thousand   32.6  \n",
       "3    Mid-West  Thousand   35.0  \n",
       "4  South-East  Thousand   32.0  "
      ]
     },
     "execution_count": 98,
     "metadata": {},
     "output_type": "execute_result"
    }
   ],
   "source": [
    "#view top 5 rows\n",
    "df_est_population.head()"
   ]
  },
  {
   "cell_type": "code",
   "execution_count": 99,
   "id": "d810434c",
   "metadata": {},
   "outputs": [
    {
     "data": {
      "text/html": [
       "<div>\n",
       "<style scoped>\n",
       "    .dataframe tbody tr th:only-of-type {\n",
       "        vertical-align: middle;\n",
       "    }\n",
       "\n",
       "    .dataframe tbody tr th {\n",
       "        vertical-align: top;\n",
       "    }\n",
       "\n",
       "    .dataframe thead th {\n",
       "        text-align: right;\n",
       "    }\n",
       "</style>\n",
       "<table border=\"1\" class=\"dataframe\">\n",
       "  <thead>\n",
       "    <tr style=\"text-align: right;\">\n",
       "      <th></th>\n",
       "      <th>STATISTIC Label</th>\n",
       "      <th>Year</th>\n",
       "      <th>Age Group</th>\n",
       "      <th>Sex</th>\n",
       "      <th>Region</th>\n",
       "      <th>UNIT</th>\n",
       "      <th>VALUE</th>\n",
       "    </tr>\n",
       "  </thead>\n",
       "  <tbody>\n",
       "    <tr>\n",
       "      <th>6664</th>\n",
       "      <td>Estimated Population (Persons in April)</td>\n",
       "      <td>2023</td>\n",
       "      <td>All ages</td>\n",
       "      <td>Female</td>\n",
       "      <td>South-East</td>\n",
       "      <td>Thousand</td>\n",
       "      <td>237.5</td>\n",
       "    </tr>\n",
       "    <tr>\n",
       "      <th>6665</th>\n",
       "      <td>Estimated Population (Persons in April)</td>\n",
       "      <td>2023</td>\n",
       "      <td>All ages</td>\n",
       "      <td>Female</td>\n",
       "      <td>South-West</td>\n",
       "      <td>Thousand</td>\n",
       "      <td>383.8</td>\n",
       "    </tr>\n",
       "    <tr>\n",
       "      <th>6666</th>\n",
       "      <td>Estimated Population (Persons in April)</td>\n",
       "      <td>2023</td>\n",
       "      <td>All ages</td>\n",
       "      <td>Female</td>\n",
       "      <td>Dublin</td>\n",
       "      <td>Thousand</td>\n",
       "      <td>765.6</td>\n",
       "    </tr>\n",
       "    <tr>\n",
       "      <th>6667</th>\n",
       "      <td>Estimated Population (Persons in April)</td>\n",
       "      <td>2023</td>\n",
       "      <td>All ages</td>\n",
       "      <td>Female</td>\n",
       "      <td>Mid-East</td>\n",
       "      <td>Thousand</td>\n",
       "      <td>391.3</td>\n",
       "    </tr>\n",
       "    <tr>\n",
       "      <th>6668</th>\n",
       "      <td>Estimated Population (Persons in April)</td>\n",
       "      <td>2023</td>\n",
       "      <td>All ages</td>\n",
       "      <td>Female</td>\n",
       "      <td>Midland</td>\n",
       "      <td>Thousand</td>\n",
       "      <td>163.2</td>\n",
       "    </tr>\n",
       "  </tbody>\n",
       "</table>\n",
       "</div>"
      ],
      "text/plain": [
       "                              STATISTIC Label  Year Age Group     Sex  \\\n",
       "6664  Estimated Population (Persons in April)  2023  All ages  Female   \n",
       "6665  Estimated Population (Persons in April)  2023  All ages  Female   \n",
       "6666  Estimated Population (Persons in April)  2023  All ages  Female   \n",
       "6667  Estimated Population (Persons in April)  2023  All ages  Female   \n",
       "6668  Estimated Population (Persons in April)  2023  All ages  Female   \n",
       "\n",
       "          Region      UNIT  VALUE  \n",
       "6664  South-East  Thousand  237.5  \n",
       "6665  South-West  Thousand  383.8  \n",
       "6666      Dublin  Thousand  765.6  \n",
       "6667    Mid-East  Thousand  391.3  \n",
       "6668     Midland  Thousand  163.2  "
      ]
     },
     "execution_count": 99,
     "metadata": {},
     "output_type": "execute_result"
    }
   ],
   "source": [
    "#view last 5 rows\n",
    "df_est_population.tail()"
   ]
  },
  {
   "cell_type": "code",
   "execution_count": 100,
   "id": "7969f972",
   "metadata": {},
   "outputs": [
    {
     "data": {
      "text/plain": [
       "False"
      ]
     },
     "execution_count": 100,
     "metadata": {},
     "output_type": "execute_result"
    }
   ],
   "source": [
    "#check if different UNIT value is present in the dataset using pandas.Series.any method\n",
    "~(df_est_population['UNIT'].isin(['Thousand'])).any()"
   ]
  },
  {
   "cell_type": "code",
   "execution_count": 101,
   "id": "f097c542",
   "metadata": {},
   "outputs": [
    {
     "data": {
      "text/plain": [
       "False"
      ]
     },
     "execution_count": 101,
     "metadata": {},
     "output_type": "execute_result"
    }
   ],
   "source": [
    "#check if different STATISTIC Label value is present in the dataset using pandas.Series.any method\n",
    "~(df_est_population['STATISTIC Label'].isin(['Estimated Population (Persons in April)'])).any()"
   ]
  },
  {
   "cell_type": "code",
   "execution_count": 102,
   "id": "ae66d81e",
   "metadata": {},
   "outputs": [],
   "source": [
    "#drop columns that are not important or useful for analysis\n",
    "drop_cols = ['STATISTIC Label', 'UNIT']\n",
    "df_est_population = df_est_population.drop(drop_cols, axis=1)"
   ]
  },
  {
   "cell_type": "code",
   "execution_count": 103,
   "id": "8136078e",
   "metadata": {},
   "outputs": [
    {
     "data": {
      "text/plain": [
       "(6669, 5)"
      ]
     },
     "execution_count": 103,
     "metadata": {},
     "output_type": "execute_result"
    }
   ],
   "source": [
    "df_est_population.shape"
   ]
  },
  {
   "cell_type": "code",
   "execution_count": 104,
   "id": "5e7e494c",
   "metadata": {},
   "outputs": [
    {
     "data": {
      "text/plain": [
       "Year         0\n",
       "Age Group    0\n",
       "Sex          0\n",
       "Region       0\n",
       "VALUE        0\n",
       "dtype: int64"
      ]
     },
     "execution_count": 104,
     "metadata": {},
     "output_type": "execute_result"
    }
   ],
   "source": [
    "#check for missing values in dataset\n",
    "df_est_population.isnull().sum()"
   ]
  },
  {
   "cell_type": "code",
   "execution_count": 105,
   "id": "02c3e0be",
   "metadata": {},
   "outputs": [],
   "source": [
    "#drop duplicates rows if any\n",
    "df_est_population = df_est_population.drop_duplicates(keep='first')"
   ]
  },
  {
   "cell_type": "code",
   "execution_count": 106,
   "id": "23be2454",
   "metadata": {},
   "outputs": [
    {
     "data": {
      "text/plain": [
       "Year           int64\n",
       "Age Group     object\n",
       "Sex           object\n",
       "Region        object\n",
       "VALUE        float64\n",
       "dtype: object"
      ]
     },
     "execution_count": 106,
     "metadata": {},
     "output_type": "execute_result"
    }
   ],
   "source": [
    "#check columns data types\n",
    "df_est_population.dtypes"
   ]
  },
  {
   "cell_type": "code",
   "execution_count": 107,
   "id": "070a2909",
   "metadata": {},
   "outputs": [],
   "source": [
    "#rename VALUE column to more specific name\n",
    "df_est_population.rename(columns={'VALUE':'Population (t)'}, inplace = True)"
   ]
  },
  {
   "cell_type": "code",
   "execution_count": 108,
   "id": "e3893b36",
   "metadata": {},
   "outputs": [
    {
     "data": {
      "text/plain": [
       "Index(['Year', 'Age Group', 'Sex', 'Region', 'Population (t)'], dtype='object')"
      ]
     },
     "execution_count": 108,
     "metadata": {},
     "output_type": "execute_result"
    }
   ],
   "source": [
    "df_est_population.columns"
   ]
  },
  {
   "cell_type": "markdown",
   "id": "090bf72c",
   "metadata": {},
   "source": [
    "> ## Estimated immigration dataset"
   ]
  },
  {
   "cell_type": "code",
   "execution_count": 109,
   "id": "2fc7a0a9",
   "metadata": {},
   "outputs": [
    {
     "data": {
      "text/plain": [
       "(504, 6)"
      ]
     },
     "execution_count": 109,
     "metadata": {},
     "output_type": "execute_result"
    }
   ],
   "source": [
    "df_est_immigration.shape"
   ]
  },
  {
   "cell_type": "code",
   "execution_count": 110,
   "id": "24296bb3",
   "metadata": {},
   "outputs": [
    {
     "name": "stdout",
     "output_type": "stream",
     "text": [
      "<class 'pandas.core.frame.DataFrame'>\n",
      "RangeIndex: 504 entries, 0 to 503\n",
      "Data columns (total 6 columns):\n",
      " #   Column           Non-Null Count  Dtype  \n",
      "---  ------           --------------  -----  \n",
      " 0   Statistic Label  504 non-null    object \n",
      " 1   Year             504 non-null    int64  \n",
      " 2   Sex              504 non-null    object \n",
      " 3   Citizenship      504 non-null    object \n",
      " 4   UNIT             504 non-null    object \n",
      " 5   VALUE            477 non-null    float64\n",
      "dtypes: float64(1), int64(1), object(4)\n",
      "memory usage: 23.8+ KB\n"
     ]
    }
   ],
   "source": [
    "df_est_immigration.info()"
   ]
  },
  {
   "cell_type": "code",
   "execution_count": 111,
   "id": "02d7a064",
   "metadata": {},
   "outputs": [
    {
     "data": {
      "text/plain": [
       "Index(['Statistic Label', 'Year', 'Sex', 'Citizenship', 'UNIT', 'VALUE'], dtype='object')"
      ]
     },
     "execution_count": 111,
     "metadata": {},
     "output_type": "execute_result"
    }
   ],
   "source": [
    "#list the columns from dataset\n",
    "df_est_immigration.columns"
   ]
  },
  {
   "cell_type": "code",
   "execution_count": 112,
   "id": "aebbf7fd",
   "metadata": {},
   "outputs": [
    {
     "data": {
      "text/html": [
       "<div>\n",
       "<style scoped>\n",
       "    .dataframe tbody tr th:only-of-type {\n",
       "        vertical-align: middle;\n",
       "    }\n",
       "\n",
       "    .dataframe tbody tr th {\n",
       "        vertical-align: top;\n",
       "    }\n",
       "\n",
       "    .dataframe thead th {\n",
       "        text-align: right;\n",
       "    }\n",
       "</style>\n",
       "<table border=\"1\" class=\"dataframe\">\n",
       "  <thead>\n",
       "    <tr style=\"text-align: right;\">\n",
       "      <th></th>\n",
       "      <th>Statistic Label</th>\n",
       "      <th>Year</th>\n",
       "      <th>Sex</th>\n",
       "      <th>Citizenship</th>\n",
       "      <th>UNIT</th>\n",
       "      <th>VALUE</th>\n",
       "    </tr>\n",
       "  </thead>\n",
       "  <tbody>\n",
       "    <tr>\n",
       "      <th>0</th>\n",
       "      <td>Estimated Immigration (Persons in April)</td>\n",
       "      <td>1996</td>\n",
       "      <td>Both sexes</td>\n",
       "      <td>All Countries</td>\n",
       "      <td>Thousand</td>\n",
       "      <td>39.2</td>\n",
       "    </tr>\n",
       "    <tr>\n",
       "      <th>1</th>\n",
       "      <td>Estimated Immigration (Persons in April)</td>\n",
       "      <td>1996</td>\n",
       "      <td>Both sexes</td>\n",
       "      <td>EU14 excl Irl (countries in the EU pre 2004 ex...</td>\n",
       "      <td>Thousand</td>\n",
       "      <td>5.0</td>\n",
       "    </tr>\n",
       "    <tr>\n",
       "      <th>2</th>\n",
       "      <td>Estimated Immigration (Persons in April)</td>\n",
       "      <td>1996</td>\n",
       "      <td>Both sexes</td>\n",
       "      <td>EU15 to EU27 (accession countries joined post ...</td>\n",
       "      <td>Thousand</td>\n",
       "      <td>NaN</td>\n",
       "    </tr>\n",
       "    <tr>\n",
       "      <th>3</th>\n",
       "      <td>Estimated Immigration (Persons in April)</td>\n",
       "      <td>1996</td>\n",
       "      <td>Both sexes</td>\n",
       "      <td>United Kingdom</td>\n",
       "      <td>Thousand</td>\n",
       "      <td>8.3</td>\n",
       "    </tr>\n",
       "    <tr>\n",
       "      <th>4</th>\n",
       "      <td>Estimated Immigration (Persons in April)</td>\n",
       "      <td>1996</td>\n",
       "      <td>Both sexes</td>\n",
       "      <td>Ireland</td>\n",
       "      <td>Thousand</td>\n",
       "      <td>17.7</td>\n",
       "    </tr>\n",
       "  </tbody>\n",
       "</table>\n",
       "</div>"
      ],
      "text/plain": [
       "                            Statistic Label  Year         Sex  \\\n",
       "0  Estimated Immigration (Persons in April)  1996  Both sexes   \n",
       "1  Estimated Immigration (Persons in April)  1996  Both sexes   \n",
       "2  Estimated Immigration (Persons in April)  1996  Both sexes   \n",
       "3  Estimated Immigration (Persons in April)  1996  Both sexes   \n",
       "4  Estimated Immigration (Persons in April)  1996  Both sexes   \n",
       "\n",
       "                                         Citizenship      UNIT  VALUE  \n",
       "0                                      All Countries  Thousand   39.2  \n",
       "1  EU14 excl Irl (countries in the EU pre 2004 ex...  Thousand    5.0  \n",
       "2  EU15 to EU27 (accession countries joined post ...  Thousand    NaN  \n",
       "3                                     United Kingdom  Thousand    8.3  \n",
       "4                                            Ireland  Thousand   17.7  "
      ]
     },
     "execution_count": 112,
     "metadata": {},
     "output_type": "execute_result"
    }
   ],
   "source": [
    "#view top 5 rows\n",
    "df_est_immigration.head()"
   ]
  },
  {
   "cell_type": "code",
   "execution_count": 113,
   "id": "84cf8592",
   "metadata": {},
   "outputs": [
    {
     "data": {
      "text/html": [
       "<div>\n",
       "<style scoped>\n",
       "    .dataframe tbody tr th:only-of-type {\n",
       "        vertical-align: middle;\n",
       "    }\n",
       "\n",
       "    .dataframe tbody tr th {\n",
       "        vertical-align: top;\n",
       "    }\n",
       "\n",
       "    .dataframe thead th {\n",
       "        text-align: right;\n",
       "    }\n",
       "</style>\n",
       "<table border=\"1\" class=\"dataframe\">\n",
       "  <thead>\n",
       "    <tr style=\"text-align: right;\">\n",
       "      <th></th>\n",
       "      <th>Statistic Label</th>\n",
       "      <th>Year</th>\n",
       "      <th>Sex</th>\n",
       "      <th>Citizenship</th>\n",
       "      <th>UNIT</th>\n",
       "      <th>VALUE</th>\n",
       "    </tr>\n",
       "  </thead>\n",
       "  <tbody>\n",
       "    <tr>\n",
       "      <th>499</th>\n",
       "      <td>Estimated Immigration (Persons in April)</td>\n",
       "      <td>2023</td>\n",
       "      <td>Female</td>\n",
       "      <td>EU14 excl Irl (countries in the EU pre 2004 ex...</td>\n",
       "      <td>Thousand</td>\n",
       "      <td>7.7</td>\n",
       "    </tr>\n",
       "    <tr>\n",
       "      <th>500</th>\n",
       "      <td>Estimated Immigration (Persons in April)</td>\n",
       "      <td>2023</td>\n",
       "      <td>Female</td>\n",
       "      <td>EU15 to EU27 (accession countries joined post ...</td>\n",
       "      <td>Thousand</td>\n",
       "      <td>5.8</td>\n",
       "    </tr>\n",
       "    <tr>\n",
       "      <th>501</th>\n",
       "      <td>Estimated Immigration (Persons in April)</td>\n",
       "      <td>2023</td>\n",
       "      <td>Female</td>\n",
       "      <td>United Kingdom</td>\n",
       "      <td>Thousand</td>\n",
       "      <td>2.5</td>\n",
       "    </tr>\n",
       "    <tr>\n",
       "      <th>502</th>\n",
       "      <td>Estimated Immigration (Persons in April)</td>\n",
       "      <td>2023</td>\n",
       "      <td>Female</td>\n",
       "      <td>Ireland</td>\n",
       "      <td>Thousand</td>\n",
       "      <td>14.3</td>\n",
       "    </tr>\n",
       "    <tr>\n",
       "      <th>503</th>\n",
       "      <td>Estimated Immigration (Persons in April)</td>\n",
       "      <td>2023</td>\n",
       "      <td>Female</td>\n",
       "      <td>All countries excluding Ireland,United Kingdom...</td>\n",
       "      <td>Thousand</td>\n",
       "      <td>45.3</td>\n",
       "    </tr>\n",
       "  </tbody>\n",
       "</table>\n",
       "</div>"
      ],
      "text/plain": [
       "                              Statistic Label  Year     Sex  \\\n",
       "499  Estimated Immigration (Persons in April)  2023  Female   \n",
       "500  Estimated Immigration (Persons in April)  2023  Female   \n",
       "501  Estimated Immigration (Persons in April)  2023  Female   \n",
       "502  Estimated Immigration (Persons in April)  2023  Female   \n",
       "503  Estimated Immigration (Persons in April)  2023  Female   \n",
       "\n",
       "                                           Citizenship      UNIT  VALUE  \n",
       "499  EU14 excl Irl (countries in the EU pre 2004 ex...  Thousand    7.7  \n",
       "500  EU15 to EU27 (accession countries joined post ...  Thousand    5.8  \n",
       "501                                     United Kingdom  Thousand    2.5  \n",
       "502                                            Ireland  Thousand   14.3  \n",
       "503  All countries excluding Ireland,United Kingdom...  Thousand   45.3  "
      ]
     },
     "execution_count": 113,
     "metadata": {},
     "output_type": "execute_result"
    }
   ],
   "source": [
    "#view last 5 rows\n",
    "df_est_immigration.tail()"
   ]
  },
  {
   "cell_type": "code",
   "execution_count": 114,
   "id": "e6f993b6",
   "metadata": {},
   "outputs": [
    {
     "data": {
      "text/plain": [
       "False"
      ]
     },
     "execution_count": 114,
     "metadata": {},
     "output_type": "execute_result"
    }
   ],
   "source": [
    "#check if different UNIT value is present in the dataset using pandas.Series.any method\n",
    "~(df_est_immigration['UNIT'].isin(['Thousand'])).any()"
   ]
  },
  {
   "cell_type": "code",
   "execution_count": 115,
   "id": "706ad5f4",
   "metadata": {},
   "outputs": [
    {
     "data": {
      "text/plain": [
       "False"
      ]
     },
     "execution_count": 115,
     "metadata": {},
     "output_type": "execute_result"
    }
   ],
   "source": [
    "#check if different STATISTIC Label value is present in the dataset using pandas.Series.any method\n",
    "~(df_est_immigration['Statistic Label'].isin(['Estimated Immigration (Persons in April)'])).any()"
   ]
  },
  {
   "cell_type": "code",
   "execution_count": 116,
   "id": "324db1f6",
   "metadata": {},
   "outputs": [],
   "source": [
    "#drop columns that are not important or useful for analysis\n",
    "drop_cols_2 = ['Statistic Label', 'UNIT']\n",
    "df_est_immigration = df_est_immigration.drop(drop_cols_2, axis=1)"
   ]
  },
  {
   "cell_type": "code",
   "execution_count": 117,
   "id": "4057c6f5",
   "metadata": {},
   "outputs": [
    {
     "data": {
      "text/plain": [
       "(504, 4)"
      ]
     },
     "execution_count": 117,
     "metadata": {},
     "output_type": "execute_result"
    }
   ],
   "source": [
    "df_est_immigration.shape"
   ]
  },
  {
   "cell_type": "code",
   "execution_count": 118,
   "id": "c98ddd76",
   "metadata": {},
   "outputs": [
    {
     "data": {
      "text/plain": [
       "Year            0\n",
       "Sex             0\n",
       "Citizenship     0\n",
       "VALUE          27\n",
       "dtype: int64"
      ]
     },
     "execution_count": 118,
     "metadata": {},
     "output_type": "execute_result"
    }
   ],
   "source": [
    "#check for missing values in dataset\n",
    "df_est_immigration.isnull().sum()"
   ]
  },
  {
   "cell_type": "code",
   "execution_count": 119,
   "id": "fd6cfb69",
   "metadata": {},
   "outputs": [
    {
     "data": {
      "text/html": [
       "<div>\n",
       "<style scoped>\n",
       "    .dataframe tbody tr th:only-of-type {\n",
       "        vertical-align: middle;\n",
       "    }\n",
       "\n",
       "    .dataframe tbody tr th {\n",
       "        vertical-align: top;\n",
       "    }\n",
       "\n",
       "    .dataframe thead th {\n",
       "        text-align: right;\n",
       "    }\n",
       "</style>\n",
       "<table border=\"1\" class=\"dataframe\">\n",
       "  <thead>\n",
       "    <tr style=\"text-align: right;\">\n",
       "      <th></th>\n",
       "      <th>Year</th>\n",
       "      <th>Sex</th>\n",
       "      <th>Citizenship</th>\n",
       "      <th>VALUE</th>\n",
       "    </tr>\n",
       "  </thead>\n",
       "  <tbody>\n",
       "    <tr>\n",
       "      <th>2</th>\n",
       "      <td>1996</td>\n",
       "      <td>Both sexes</td>\n",
       "      <td>EU15 to EU27 (accession countries joined post ...</td>\n",
       "      <td>NaN</td>\n",
       "    </tr>\n",
       "    <tr>\n",
       "      <th>8</th>\n",
       "      <td>1996</td>\n",
       "      <td>Male</td>\n",
       "      <td>EU15 to EU27 (accession countries joined post ...</td>\n",
       "      <td>NaN</td>\n",
       "    </tr>\n",
       "    <tr>\n",
       "      <th>14</th>\n",
       "      <td>1996</td>\n",
       "      <td>Female</td>\n",
       "      <td>EU15 to EU27 (accession countries joined post ...</td>\n",
       "      <td>NaN</td>\n",
       "    </tr>\n",
       "    <tr>\n",
       "      <th>20</th>\n",
       "      <td>1997</td>\n",
       "      <td>Both sexes</td>\n",
       "      <td>EU15 to EU27 (accession countries joined post ...</td>\n",
       "      <td>NaN</td>\n",
       "    </tr>\n",
       "    <tr>\n",
       "      <th>26</th>\n",
       "      <td>1997</td>\n",
       "      <td>Male</td>\n",
       "      <td>EU15 to EU27 (accession countries joined post ...</td>\n",
       "      <td>NaN</td>\n",
       "    </tr>\n",
       "    <tr>\n",
       "      <th>32</th>\n",
       "      <td>1997</td>\n",
       "      <td>Female</td>\n",
       "      <td>EU15 to EU27 (accession countries joined post ...</td>\n",
       "      <td>NaN</td>\n",
       "    </tr>\n",
       "    <tr>\n",
       "      <th>38</th>\n",
       "      <td>1998</td>\n",
       "      <td>Both sexes</td>\n",
       "      <td>EU15 to EU27 (accession countries joined post ...</td>\n",
       "      <td>NaN</td>\n",
       "    </tr>\n",
       "    <tr>\n",
       "      <th>44</th>\n",
       "      <td>1998</td>\n",
       "      <td>Male</td>\n",
       "      <td>EU15 to EU27 (accession countries joined post ...</td>\n",
       "      <td>NaN</td>\n",
       "    </tr>\n",
       "    <tr>\n",
       "      <th>50</th>\n",
       "      <td>1998</td>\n",
       "      <td>Female</td>\n",
       "      <td>EU15 to EU27 (accession countries joined post ...</td>\n",
       "      <td>NaN</td>\n",
       "    </tr>\n",
       "    <tr>\n",
       "      <th>56</th>\n",
       "      <td>1999</td>\n",
       "      <td>Both sexes</td>\n",
       "      <td>EU15 to EU27 (accession countries joined post ...</td>\n",
       "      <td>NaN</td>\n",
       "    </tr>\n",
       "    <tr>\n",
       "      <th>62</th>\n",
       "      <td>1999</td>\n",
       "      <td>Male</td>\n",
       "      <td>EU15 to EU27 (accession countries joined post ...</td>\n",
       "      <td>NaN</td>\n",
       "    </tr>\n",
       "    <tr>\n",
       "      <th>68</th>\n",
       "      <td>1999</td>\n",
       "      <td>Female</td>\n",
       "      <td>EU15 to EU27 (accession countries joined post ...</td>\n",
       "      <td>NaN</td>\n",
       "    </tr>\n",
       "    <tr>\n",
       "      <th>74</th>\n",
       "      <td>2000</td>\n",
       "      <td>Both sexes</td>\n",
       "      <td>EU15 to EU27 (accession countries joined post ...</td>\n",
       "      <td>NaN</td>\n",
       "    </tr>\n",
       "    <tr>\n",
       "      <th>80</th>\n",
       "      <td>2000</td>\n",
       "      <td>Male</td>\n",
       "      <td>EU15 to EU27 (accession countries joined post ...</td>\n",
       "      <td>NaN</td>\n",
       "    </tr>\n",
       "    <tr>\n",
       "      <th>86</th>\n",
       "      <td>2000</td>\n",
       "      <td>Female</td>\n",
       "      <td>EU15 to EU27 (accession countries joined post ...</td>\n",
       "      <td>NaN</td>\n",
       "    </tr>\n",
       "    <tr>\n",
       "      <th>92</th>\n",
       "      <td>2001</td>\n",
       "      <td>Both sexes</td>\n",
       "      <td>EU15 to EU27 (accession countries joined post ...</td>\n",
       "      <td>NaN</td>\n",
       "    </tr>\n",
       "    <tr>\n",
       "      <th>98</th>\n",
       "      <td>2001</td>\n",
       "      <td>Male</td>\n",
       "      <td>EU15 to EU27 (accession countries joined post ...</td>\n",
       "      <td>NaN</td>\n",
       "    </tr>\n",
       "    <tr>\n",
       "      <th>104</th>\n",
       "      <td>2001</td>\n",
       "      <td>Female</td>\n",
       "      <td>EU15 to EU27 (accession countries joined post ...</td>\n",
       "      <td>NaN</td>\n",
       "    </tr>\n",
       "    <tr>\n",
       "      <th>110</th>\n",
       "      <td>2002</td>\n",
       "      <td>Both sexes</td>\n",
       "      <td>EU15 to EU27 (accession countries joined post ...</td>\n",
       "      <td>NaN</td>\n",
       "    </tr>\n",
       "    <tr>\n",
       "      <th>116</th>\n",
       "      <td>2002</td>\n",
       "      <td>Male</td>\n",
       "      <td>EU15 to EU27 (accession countries joined post ...</td>\n",
       "      <td>NaN</td>\n",
       "    </tr>\n",
       "    <tr>\n",
       "      <th>122</th>\n",
       "      <td>2002</td>\n",
       "      <td>Female</td>\n",
       "      <td>EU15 to EU27 (accession countries joined post ...</td>\n",
       "      <td>NaN</td>\n",
       "    </tr>\n",
       "    <tr>\n",
       "      <th>128</th>\n",
       "      <td>2003</td>\n",
       "      <td>Both sexes</td>\n",
       "      <td>EU15 to EU27 (accession countries joined post ...</td>\n",
       "      <td>NaN</td>\n",
       "    </tr>\n",
       "    <tr>\n",
       "      <th>134</th>\n",
       "      <td>2003</td>\n",
       "      <td>Male</td>\n",
       "      <td>EU15 to EU27 (accession countries joined post ...</td>\n",
       "      <td>NaN</td>\n",
       "    </tr>\n",
       "    <tr>\n",
       "      <th>140</th>\n",
       "      <td>2003</td>\n",
       "      <td>Female</td>\n",
       "      <td>EU15 to EU27 (accession countries joined post ...</td>\n",
       "      <td>NaN</td>\n",
       "    </tr>\n",
       "    <tr>\n",
       "      <th>146</th>\n",
       "      <td>2004</td>\n",
       "      <td>Both sexes</td>\n",
       "      <td>EU15 to EU27 (accession countries joined post ...</td>\n",
       "      <td>NaN</td>\n",
       "    </tr>\n",
       "    <tr>\n",
       "      <th>152</th>\n",
       "      <td>2004</td>\n",
       "      <td>Male</td>\n",
       "      <td>EU15 to EU27 (accession countries joined post ...</td>\n",
       "      <td>NaN</td>\n",
       "    </tr>\n",
       "    <tr>\n",
       "      <th>158</th>\n",
       "      <td>2004</td>\n",
       "      <td>Female</td>\n",
       "      <td>EU15 to EU27 (accession countries joined post ...</td>\n",
       "      <td>NaN</td>\n",
       "    </tr>\n",
       "  </tbody>\n",
       "</table>\n",
       "</div>"
      ],
      "text/plain": [
       "     Year         Sex                                        Citizenship  \\\n",
       "2    1996  Both sexes  EU15 to EU27 (accession countries joined post ...   \n",
       "8    1996        Male  EU15 to EU27 (accession countries joined post ...   \n",
       "14   1996      Female  EU15 to EU27 (accession countries joined post ...   \n",
       "20   1997  Both sexes  EU15 to EU27 (accession countries joined post ...   \n",
       "26   1997        Male  EU15 to EU27 (accession countries joined post ...   \n",
       "32   1997      Female  EU15 to EU27 (accession countries joined post ...   \n",
       "38   1998  Both sexes  EU15 to EU27 (accession countries joined post ...   \n",
       "44   1998        Male  EU15 to EU27 (accession countries joined post ...   \n",
       "50   1998      Female  EU15 to EU27 (accession countries joined post ...   \n",
       "56   1999  Both sexes  EU15 to EU27 (accession countries joined post ...   \n",
       "62   1999        Male  EU15 to EU27 (accession countries joined post ...   \n",
       "68   1999      Female  EU15 to EU27 (accession countries joined post ...   \n",
       "74   2000  Both sexes  EU15 to EU27 (accession countries joined post ...   \n",
       "80   2000        Male  EU15 to EU27 (accession countries joined post ...   \n",
       "86   2000      Female  EU15 to EU27 (accession countries joined post ...   \n",
       "92   2001  Both sexes  EU15 to EU27 (accession countries joined post ...   \n",
       "98   2001        Male  EU15 to EU27 (accession countries joined post ...   \n",
       "104  2001      Female  EU15 to EU27 (accession countries joined post ...   \n",
       "110  2002  Both sexes  EU15 to EU27 (accession countries joined post ...   \n",
       "116  2002        Male  EU15 to EU27 (accession countries joined post ...   \n",
       "122  2002      Female  EU15 to EU27 (accession countries joined post ...   \n",
       "128  2003  Both sexes  EU15 to EU27 (accession countries joined post ...   \n",
       "134  2003        Male  EU15 to EU27 (accession countries joined post ...   \n",
       "140  2003      Female  EU15 to EU27 (accession countries joined post ...   \n",
       "146  2004  Both sexes  EU15 to EU27 (accession countries joined post ...   \n",
       "152  2004        Male  EU15 to EU27 (accession countries joined post ...   \n",
       "158  2004      Female  EU15 to EU27 (accession countries joined post ...   \n",
       "\n",
       "     VALUE  \n",
       "2      NaN  \n",
       "8      NaN  \n",
       "14     NaN  \n",
       "20     NaN  \n",
       "26     NaN  \n",
       "32     NaN  \n",
       "38     NaN  \n",
       "44     NaN  \n",
       "50     NaN  \n",
       "56     NaN  \n",
       "62     NaN  \n",
       "68     NaN  \n",
       "74     NaN  \n",
       "80     NaN  \n",
       "86     NaN  \n",
       "92     NaN  \n",
       "98     NaN  \n",
       "104    NaN  \n",
       "110    NaN  \n",
       "116    NaN  \n",
       "122    NaN  \n",
       "128    NaN  \n",
       "134    NaN  \n",
       "140    NaN  \n",
       "146    NaN  \n",
       "152    NaN  \n",
       "158    NaN  "
      ]
     },
     "execution_count": 119,
     "metadata": {},
     "output_type": "execute_result"
    }
   ],
   "source": [
    "#view rows with missing values\n",
    "df_est_immigration[df_est_immigration.isnull().any(axis=1)]"
   ]
  },
  {
   "cell_type": "code",
   "execution_count": 120,
   "id": "17b4ca3a",
   "metadata": {},
   "outputs": [
    {
     "data": {
      "text/plain": [
       "Year           0\n",
       "Sex            0\n",
       "Citizenship    0\n",
       "VALUE          0\n",
       "dtype: int64"
      ]
     },
     "execution_count": 120,
     "metadata": {},
     "output_type": "execute_result"
    }
   ],
   "source": [
    "#drop rows with missing values\n",
    "df_est_immigration = df_est_immigration.dropna()\n",
    "df_est_immigration.isnull().sum()"
   ]
  },
  {
   "cell_type": "code",
   "execution_count": 121,
   "id": "80e5ebce",
   "metadata": {},
   "outputs": [
    {
     "name": "stdout",
     "output_type": "stream",
     "text": [
      "<class 'pandas.core.frame.DataFrame'>\n",
      "Int64Index: 477 entries, 0 to 503\n",
      "Data columns (total 4 columns):\n",
      " #   Column       Non-Null Count  Dtype  \n",
      "---  ------       --------------  -----  \n",
      " 0   Year         477 non-null    int64  \n",
      " 1   Sex          477 non-null    object \n",
      " 2   Citizenship  477 non-null    object \n",
      " 3   VALUE        477 non-null    float64\n",
      "dtypes: float64(1), int64(1), object(2)\n",
      "memory usage: 18.6+ KB\n"
     ]
    }
   ],
   "source": [
    "df_est_immigration.info()"
   ]
  },
  {
   "cell_type": "code",
   "execution_count": 122,
   "id": "1b4eb4ca",
   "metadata": {},
   "outputs": [],
   "source": [
    "#drop duplicates rows if any\n",
    "df_est_immigration = df_est_immigration.drop_duplicates(keep='first')"
   ]
  },
  {
   "cell_type": "code",
   "execution_count": 123,
   "id": "bf0b6efe",
   "metadata": {},
   "outputs": [
    {
     "data": {
      "text/plain": [
       "Index(['Year', 'Sex', 'Citizenship', 'Population (t)'], dtype='object')"
      ]
     },
     "execution_count": 123,
     "metadata": {},
     "output_type": "execute_result"
    }
   ],
   "source": [
    "#rename VALUE column to more specific name\n",
    "df_est_immigration.rename(columns={'VALUE':'Population (t)'}, inplace = True)\n",
    "df_est_immigration.columns"
   ]
  },
  {
   "cell_type": "markdown",
   "id": "b8d6faa0",
   "metadata": {},
   "source": [
    "> ## Estimated Emigration datset"
   ]
  },
  {
   "cell_type": "code",
   "execution_count": 124,
   "id": "1d491aba",
   "metadata": {},
   "outputs": [
    {
     "data": {
      "text/plain": [
       "(324, 6)"
      ]
     },
     "execution_count": 124,
     "metadata": {},
     "output_type": "execute_result"
    }
   ],
   "source": [
    "df_est_emigration.shape"
   ]
  },
  {
   "cell_type": "code",
   "execution_count": 125,
   "id": "3942d7c5",
   "metadata": {},
   "outputs": [
    {
     "name": "stdout",
     "output_type": "stream",
     "text": [
      "<class 'pandas.core.frame.DataFrame'>\n",
      "RangeIndex: 324 entries, 0 to 323\n",
      "Data columns (total 6 columns):\n",
      " #   Column           Non-Null Count  Dtype  \n",
      "---  ------           --------------  -----  \n",
      " 0   Statistic Label  324 non-null    object \n",
      " 1   Year             324 non-null    int64  \n",
      " 2   Sex              324 non-null    object \n",
      " 3   Citizenship      324 non-null    object \n",
      " 4   UNIT             324 non-null    object \n",
      " 5   VALUE            324 non-null    float64\n",
      "dtypes: float64(1), int64(1), object(4)\n",
      "memory usage: 15.3+ KB\n"
     ]
    }
   ],
   "source": [
    "df_est_emigration.info()"
   ]
  },
  {
   "cell_type": "code",
   "execution_count": 126,
   "id": "f94051cd",
   "metadata": {},
   "outputs": [
    {
     "data": {
      "text/plain": [
       "Index(['Statistic Label', 'Year', 'Sex', 'Citizenship', 'UNIT', 'VALUE'], dtype='object')"
      ]
     },
     "execution_count": 126,
     "metadata": {},
     "output_type": "execute_result"
    }
   ],
   "source": [
    "#list the columns from dataset\n",
    "df_est_emigration.columns"
   ]
  },
  {
   "cell_type": "code",
   "execution_count": 127,
   "id": "6ada5b43",
   "metadata": {},
   "outputs": [
    {
     "data": {
      "text/html": [
       "<div>\n",
       "<style scoped>\n",
       "    .dataframe tbody tr th:only-of-type {\n",
       "        vertical-align: middle;\n",
       "    }\n",
       "\n",
       "    .dataframe tbody tr th {\n",
       "        vertical-align: top;\n",
       "    }\n",
       "\n",
       "    .dataframe thead th {\n",
       "        text-align: right;\n",
       "    }\n",
       "</style>\n",
       "<table border=\"1\" class=\"dataframe\">\n",
       "  <thead>\n",
       "    <tr style=\"text-align: right;\">\n",
       "      <th></th>\n",
       "      <th>Statistic Label</th>\n",
       "      <th>Year</th>\n",
       "      <th>Sex</th>\n",
       "      <th>Citizenship</th>\n",
       "      <th>UNIT</th>\n",
       "      <th>VALUE</th>\n",
       "    </tr>\n",
       "  </thead>\n",
       "  <tbody>\n",
       "    <tr>\n",
       "      <th>0</th>\n",
       "      <td>Estimated Emigration (Persons in April)</td>\n",
       "      <td>2006</td>\n",
       "      <td>Both sexes</td>\n",
       "      <td>All Countries</td>\n",
       "      <td>Thousand</td>\n",
       "      <td>36.0</td>\n",
       "    </tr>\n",
       "    <tr>\n",
       "      <th>1</th>\n",
       "      <td>Estimated Emigration (Persons in April)</td>\n",
       "      <td>2006</td>\n",
       "      <td>Both sexes</td>\n",
       "      <td>EU14 excl Irl (countries in the EU pre 2004 ex...</td>\n",
       "      <td>Thousand</td>\n",
       "      <td>5.1</td>\n",
       "    </tr>\n",
       "    <tr>\n",
       "      <th>2</th>\n",
       "      <td>Estimated Emigration (Persons in April)</td>\n",
       "      <td>2006</td>\n",
       "      <td>Both sexes</td>\n",
       "      <td>EU15 to EU27 (accession countries joined post ...</td>\n",
       "      <td>Thousand</td>\n",
       "      <td>7.2</td>\n",
       "    </tr>\n",
       "    <tr>\n",
       "      <th>3</th>\n",
       "      <td>Estimated Emigration (Persons in April)</td>\n",
       "      <td>2006</td>\n",
       "      <td>Both sexes</td>\n",
       "      <td>United Kingdom</td>\n",
       "      <td>Thousand</td>\n",
       "      <td>2.2</td>\n",
       "    </tr>\n",
       "    <tr>\n",
       "      <th>4</th>\n",
       "      <td>Estimated Emigration (Persons in April)</td>\n",
       "      <td>2006</td>\n",
       "      <td>Both sexes</td>\n",
       "      <td>Ireland</td>\n",
       "      <td>Thousand</td>\n",
       "      <td>15.3</td>\n",
       "    </tr>\n",
       "  </tbody>\n",
       "</table>\n",
       "</div>"
      ],
      "text/plain": [
       "                           Statistic Label  Year         Sex  \\\n",
       "0  Estimated Emigration (Persons in April)  2006  Both sexes   \n",
       "1  Estimated Emigration (Persons in April)  2006  Both sexes   \n",
       "2  Estimated Emigration (Persons in April)  2006  Both sexes   \n",
       "3  Estimated Emigration (Persons in April)  2006  Both sexes   \n",
       "4  Estimated Emigration (Persons in April)  2006  Both sexes   \n",
       "\n",
       "                                         Citizenship      UNIT  VALUE  \n",
       "0                                      All Countries  Thousand   36.0  \n",
       "1  EU14 excl Irl (countries in the EU pre 2004 ex...  Thousand    5.1  \n",
       "2  EU15 to EU27 (accession countries joined post ...  Thousand    7.2  \n",
       "3                                     United Kingdom  Thousand    2.2  \n",
       "4                                            Ireland  Thousand   15.3  "
      ]
     },
     "execution_count": 127,
     "metadata": {},
     "output_type": "execute_result"
    }
   ],
   "source": [
    "#view top 5 rows\n",
    "df_est_emigration.head()"
   ]
  },
  {
   "cell_type": "code",
   "execution_count": 128,
   "id": "03736721",
   "metadata": {},
   "outputs": [
    {
     "data": {
      "text/html": [
       "<div>\n",
       "<style scoped>\n",
       "    .dataframe tbody tr th:only-of-type {\n",
       "        vertical-align: middle;\n",
       "    }\n",
       "\n",
       "    .dataframe tbody tr th {\n",
       "        vertical-align: top;\n",
       "    }\n",
       "\n",
       "    .dataframe thead th {\n",
       "        text-align: right;\n",
       "    }\n",
       "</style>\n",
       "<table border=\"1\" class=\"dataframe\">\n",
       "  <thead>\n",
       "    <tr style=\"text-align: right;\">\n",
       "      <th></th>\n",
       "      <th>Statistic Label</th>\n",
       "      <th>Year</th>\n",
       "      <th>Sex</th>\n",
       "      <th>Citizenship</th>\n",
       "      <th>UNIT</th>\n",
       "      <th>VALUE</th>\n",
       "    </tr>\n",
       "  </thead>\n",
       "  <tbody>\n",
       "    <tr>\n",
       "      <th>319</th>\n",
       "      <td>Estimated Emigration (Persons in April)</td>\n",
       "      <td>2023</td>\n",
       "      <td>Female</td>\n",
       "      <td>EU14 excl Irl (countries in the EU pre 2004 ex...</td>\n",
       "      <td>Thousand</td>\n",
       "      <td>4.3</td>\n",
       "    </tr>\n",
       "    <tr>\n",
       "      <th>320</th>\n",
       "      <td>Estimated Emigration (Persons in April)</td>\n",
       "      <td>2023</td>\n",
       "      <td>Female</td>\n",
       "      <td>EU15 to EU27 (accession countries joined post ...</td>\n",
       "      <td>Thousand</td>\n",
       "      <td>3.1</td>\n",
       "    </tr>\n",
       "    <tr>\n",
       "      <th>321</th>\n",
       "      <td>Estimated Emigration (Persons in April)</td>\n",
       "      <td>2023</td>\n",
       "      <td>Female</td>\n",
       "      <td>United Kingdom</td>\n",
       "      <td>Thousand</td>\n",
       "      <td>2.7</td>\n",
       "    </tr>\n",
       "    <tr>\n",
       "      <th>322</th>\n",
       "      <td>Estimated Emigration (Persons in April)</td>\n",
       "      <td>2023</td>\n",
       "      <td>Female</td>\n",
       "      <td>Ireland</td>\n",
       "      <td>Thousand</td>\n",
       "      <td>16.0</td>\n",
       "    </tr>\n",
       "    <tr>\n",
       "      <th>323</th>\n",
       "      <td>Estimated Emigration (Persons in April)</td>\n",
       "      <td>2023</td>\n",
       "      <td>Female</td>\n",
       "      <td>All countries excluding Ireland,United Kingdom...</td>\n",
       "      <td>Thousand</td>\n",
       "      <td>6.8</td>\n",
       "    </tr>\n",
       "  </tbody>\n",
       "</table>\n",
       "</div>"
      ],
      "text/plain": [
       "                             Statistic Label  Year     Sex  \\\n",
       "319  Estimated Emigration (Persons in April)  2023  Female   \n",
       "320  Estimated Emigration (Persons in April)  2023  Female   \n",
       "321  Estimated Emigration (Persons in April)  2023  Female   \n",
       "322  Estimated Emigration (Persons in April)  2023  Female   \n",
       "323  Estimated Emigration (Persons in April)  2023  Female   \n",
       "\n",
       "                                           Citizenship      UNIT  VALUE  \n",
       "319  EU14 excl Irl (countries in the EU pre 2004 ex...  Thousand    4.3  \n",
       "320  EU15 to EU27 (accession countries joined post ...  Thousand    3.1  \n",
       "321                                     United Kingdom  Thousand    2.7  \n",
       "322                                            Ireland  Thousand   16.0  \n",
       "323  All countries excluding Ireland,United Kingdom...  Thousand    6.8  "
      ]
     },
     "execution_count": 128,
     "metadata": {},
     "output_type": "execute_result"
    }
   ],
   "source": [
    "#view last 5 rows\n",
    "df_est_emigration.tail()"
   ]
  },
  {
   "cell_type": "code",
   "execution_count": 129,
   "id": "4b56cb2f",
   "metadata": {},
   "outputs": [
    {
     "data": {
      "text/plain": [
       "False"
      ]
     },
     "execution_count": 129,
     "metadata": {},
     "output_type": "execute_result"
    }
   ],
   "source": [
    "#check if different UNIT value is present in the dataset using pandas.Series.any method\n",
    "~(df_est_emigration['UNIT'].isin(['Thousand'])).any()"
   ]
  },
  {
   "cell_type": "code",
   "execution_count": 130,
   "id": "5d13ae1d",
   "metadata": {},
   "outputs": [
    {
     "data": {
      "text/plain": [
       "False"
      ]
     },
     "execution_count": 130,
     "metadata": {},
     "output_type": "execute_result"
    }
   ],
   "source": [
    "#check if different STATISTIC Label value is present in the dataset using pandas.Series.any method\n",
    "~(df_est_emigration['Statistic Label'].isin(['Estimated Emigration (Persons in April)'])).any()"
   ]
  },
  {
   "cell_type": "code",
   "execution_count": 131,
   "id": "76bf5c15",
   "metadata": {},
   "outputs": [
    {
     "data": {
      "text/plain": [
       "(324, 4)"
      ]
     },
     "execution_count": 131,
     "metadata": {},
     "output_type": "execute_result"
    }
   ],
   "source": [
    "#drop columns that are not important or useful for analysis\n",
    "drop_cols_2 = ['Statistic Label', 'UNIT']\n",
    "df_est_emigration = df_est_emigration.drop(drop_cols_2, axis=1)\n",
    "df_est_emigration.shape"
   ]
  },
  {
   "cell_type": "code",
   "execution_count": 132,
   "id": "cbd45da9",
   "metadata": {},
   "outputs": [
    {
     "data": {
      "text/plain": [
       "Year           0\n",
       "Sex            0\n",
       "Citizenship    0\n",
       "VALUE          0\n",
       "dtype: int64"
      ]
     },
     "execution_count": 132,
     "metadata": {},
     "output_type": "execute_result"
    }
   ],
   "source": [
    "#check for missing values in dataset\n",
    "df_est_emigration.isnull().sum()"
   ]
  },
  {
   "cell_type": "code",
   "execution_count": 133,
   "id": "e3a64198",
   "metadata": {},
   "outputs": [],
   "source": [
    "#drop duplicates rows if any\n",
    "df_est_emigration = df_est_emigration.drop_duplicates(keep='first')"
   ]
  },
  {
   "cell_type": "code",
   "execution_count": 134,
   "id": "e15a7298",
   "metadata": {},
   "outputs": [
    {
     "data": {
      "text/plain": [
       "Index(['Year', 'Sex', 'Citizenship', 'Population (t)'], dtype='object')"
      ]
     },
     "execution_count": 134,
     "metadata": {},
     "output_type": "execute_result"
    }
   ],
   "source": [
    "#rename VALUE column to more specific name\n",
    "df_est_emigration.rename(columns={'VALUE':'Population (t)'}, inplace = True)\n",
    "df_est_emigration.columns"
   ]
  },
  {
   "cell_type": "markdown",
   "id": "17e98947",
   "metadata": {},
   "source": [
    "# Exploratory Data Analysis\n",
    "---"
   ]
  },
  {
   "cell_type": "code",
   "execution_count": null,
   "id": "3ae52ba2",
   "metadata": {},
   "outputs": [],
   "source": [
    "# imprting required libraries\n",
    "import pandas as pd\n",
    "import numpy as np\n",
    "import seaborn as sns"
   ]
  },
  {
   "cell_type": "markdown",
   "id": "90413662",
   "metadata": {},
   "source": [
    "# Statistical Analysis\n",
    "---"
   ]
  },
  {
   "cell_type": "markdown",
   "id": "9f820236",
   "metadata": {},
   "source": [
    "> ## Descriptive statistics"
   ]
  },
  {
   "cell_type": "code",
   "execution_count": 36,
   "id": "65119543",
   "metadata": {},
   "outputs": [
    {
     "data": {
      "text/html": [
       "<div>\n",
       "<style scoped>\n",
       "    .dataframe tbody tr th:only-of-type {\n",
       "        vertical-align: middle;\n",
       "    }\n",
       "\n",
       "    .dataframe tbody tr th {\n",
       "        vertical-align: top;\n",
       "    }\n",
       "\n",
       "    .dataframe thead th {\n",
       "        text-align: right;\n",
       "    }\n",
       "</style>\n",
       "<table border=\"1\" class=\"dataframe\">\n",
       "  <thead>\n",
       "    <tr style=\"text-align: right;\">\n",
       "      <th></th>\n",
       "      <th>Year</th>\n",
       "      <th>Population (t)</th>\n",
       "    </tr>\n",
       "  </thead>\n",
       "  <tbody>\n",
       "    <tr>\n",
       "      <th>count</th>\n",
       "      <td>6669.000000</td>\n",
       "      <td>6669.000000</td>\n",
       "    </tr>\n",
       "    <tr>\n",
       "      <th>mean</th>\n",
       "      <td>2017.000000</td>\n",
       "      <td>75.670460</td>\n",
       "    </tr>\n",
       "    <tr>\n",
       "      <th>std</th>\n",
       "      <td>3.741938</td>\n",
       "      <td>281.512172</td>\n",
       "    </tr>\n",
       "    <tr>\n",
       "      <th>min</th>\n",
       "      <td>2011.000000</td>\n",
       "      <td>1.200000</td>\n",
       "    </tr>\n",
       "    <tr>\n",
       "      <th>25%</th>\n",
       "      <td>2014.000000</td>\n",
       "      <td>12.500000</td>\n",
       "    </tr>\n",
       "    <tr>\n",
       "      <th>50%</th>\n",
       "      <td>2017.000000</td>\n",
       "      <td>20.700000</td>\n",
       "    </tr>\n",
       "    <tr>\n",
       "      <th>75%</th>\n",
       "      <td>2020.000000</td>\n",
       "      <td>42.200000</td>\n",
       "    </tr>\n",
       "    <tr>\n",
       "      <th>max</th>\n",
       "      <td>2023.000000</td>\n",
       "      <td>5281.600000</td>\n",
       "    </tr>\n",
       "  </tbody>\n",
       "</table>\n",
       "</div>"
      ],
      "text/plain": [
       "              Year  Population (t)\n",
       "count  6669.000000     6669.000000\n",
       "mean   2017.000000       75.670460\n",
       "std       3.741938      281.512172\n",
       "min    2011.000000        1.200000\n",
       "25%    2014.000000       12.500000\n",
       "50%    2017.000000       20.700000\n",
       "75%    2020.000000       42.200000\n",
       "max    2023.000000     5281.600000"
      ]
     },
     "execution_count": 36,
     "metadata": {},
     "output_type": "execute_result"
    }
   ],
   "source": [
    "#get descriptive statistics\n",
    "df_est_population.describe()"
   ]
  },
  {
   "cell_type": "code",
   "execution_count": 88,
   "id": "69939715",
   "metadata": {},
   "outputs": [
    {
     "data": {
      "text/html": [
       "<div>\n",
       "<style scoped>\n",
       "    .dataframe tbody tr th:only-of-type {\n",
       "        vertical-align: middle;\n",
       "    }\n",
       "\n",
       "    .dataframe tbody tr th {\n",
       "        vertical-align: top;\n",
       "    }\n",
       "\n",
       "    .dataframe thead th {\n",
       "        text-align: right;\n",
       "    }\n",
       "</style>\n",
       "<table border=\"1\" class=\"dataframe\">\n",
       "  <thead>\n",
       "    <tr style=\"text-align: right;\">\n",
       "      <th></th>\n",
       "      <th>Year</th>\n",
       "      <th>Population (t)</th>\n",
       "    </tr>\n",
       "  </thead>\n",
       "  <tbody>\n",
       "    <tr>\n",
       "      <th>count</th>\n",
       "      <td>477.000000</td>\n",
       "      <td>477.000000</td>\n",
       "    </tr>\n",
       "    <tr>\n",
       "      <th>mean</th>\n",
       "      <td>2010.037736</td>\n",
       "      <td>18.060168</td>\n",
       "    </tr>\n",
       "    <tr>\n",
       "      <th>std</th>\n",
       "      <td>7.956198</td>\n",
       "      <td>21.330315</td>\n",
       "    </tr>\n",
       "    <tr>\n",
       "      <th>min</th>\n",
       "      <td>1996.000000</td>\n",
       "      <td>1.100000</td>\n",
       "    </tr>\n",
       "    <tr>\n",
       "      <th>25%</th>\n",
       "      <td>2003.000000</td>\n",
       "      <td>5.000000</td>\n",
       "    </tr>\n",
       "    <tr>\n",
       "      <th>50%</th>\n",
       "      <td>2010.000000</td>\n",
       "      <td>9.700000</td>\n",
       "    </tr>\n",
       "    <tr>\n",
       "      <th>75%</th>\n",
       "      <td>2017.000000</td>\n",
       "      <td>22.600000</td>\n",
       "    </tr>\n",
       "    <tr>\n",
       "      <th>max</th>\n",
       "      <td>2023.000000</td>\n",
       "      <td>151.100000</td>\n",
       "    </tr>\n",
       "  </tbody>\n",
       "</table>\n",
       "</div>"
      ],
      "text/plain": [
       "              Year  Population (t)\n",
       "count   477.000000      477.000000\n",
       "mean   2010.037736       18.060168\n",
       "std       7.956198       21.330315\n",
       "min    1996.000000        1.100000\n",
       "25%    2003.000000        5.000000\n",
       "50%    2010.000000        9.700000\n",
       "75%    2017.000000       22.600000\n",
       "max    2023.000000      151.100000"
      ]
     },
     "execution_count": 88,
     "metadata": {},
     "output_type": "execute_result"
    }
   ],
   "source": [
    "df_est_immigration.describe()"
   ]
  },
  {
   "cell_type": "code",
   "execution_count": 89,
   "id": "f43c4d7b",
   "metadata": {},
   "outputs": [
    {
     "data": {
      "text/html": [
       "<div>\n",
       "<style scoped>\n",
       "    .dataframe tbody tr th:only-of-type {\n",
       "        vertical-align: middle;\n",
       "    }\n",
       "\n",
       "    .dataframe tbody tr th {\n",
       "        vertical-align: top;\n",
       "    }\n",
       "\n",
       "    .dataframe thead th {\n",
       "        text-align: right;\n",
       "    }\n",
       "</style>\n",
       "<table border=\"1\" class=\"dataframe\">\n",
       "  <thead>\n",
       "    <tr style=\"text-align: right;\">\n",
       "      <th></th>\n",
       "      <th>Year</th>\n",
       "      <th>Population (t)</th>\n",
       "    </tr>\n",
       "  </thead>\n",
       "  <tbody>\n",
       "    <tr>\n",
       "      <th>count</th>\n",
       "      <td>324.000000</td>\n",
       "      <td>324.000000</td>\n",
       "    </tr>\n",
       "    <tr>\n",
       "      <th>mean</th>\n",
       "      <td>2014.500000</td>\n",
       "      <td>13.737963</td>\n",
       "    </tr>\n",
       "    <tr>\n",
       "      <th>std</th>\n",
       "      <td>5.196152</td>\n",
       "      <td>16.095976</td>\n",
       "    </tr>\n",
       "    <tr>\n",
       "      <th>min</th>\n",
       "      <td>2006.000000</td>\n",
       "      <td>0.600000</td>\n",
       "    </tr>\n",
       "    <tr>\n",
       "      <th>25%</th>\n",
       "      <td>2010.000000</td>\n",
       "      <td>3.600000</td>\n",
       "    </tr>\n",
       "    <tr>\n",
       "      <th>50%</th>\n",
       "      <td>2014.500000</td>\n",
       "      <td>6.700000</td>\n",
       "    </tr>\n",
       "    <tr>\n",
       "      <th>75%</th>\n",
       "      <td>2019.000000</td>\n",
       "      <td>17.800000</td>\n",
       "    </tr>\n",
       "    <tr>\n",
       "      <th>max</th>\n",
       "      <td>2023.000000</td>\n",
       "      <td>83.000000</td>\n",
       "    </tr>\n",
       "  </tbody>\n",
       "</table>\n",
       "</div>"
      ],
      "text/plain": [
       "              Year  Population (t)\n",
       "count   324.000000      324.000000\n",
       "mean   2014.500000       13.737963\n",
       "std       5.196152       16.095976\n",
       "min    2006.000000        0.600000\n",
       "25%    2010.000000        3.600000\n",
       "50%    2014.500000        6.700000\n",
       "75%    2019.000000       17.800000\n",
       "max    2023.000000       83.000000"
      ]
     },
     "execution_count": 89,
     "metadata": {},
     "output_type": "execute_result"
    }
   ],
   "source": [
    "df_est_emigration.describe()"
   ]
  },
  {
   "cell_type": "markdown",
   "id": "14bee023",
   "metadata": {},
   "source": [
    "> ## Binomal Distribution"
   ]
  },
  {
   "cell_type": "markdown",
   "id": "bb4875a6",
   "metadata": {},
   "source": [
    "> ## Poisson Distribution"
   ]
  },
  {
   "cell_type": "markdown",
   "id": "95bee4de",
   "metadata": {},
   "source": [
    "> ## Normal Distribution"
   ]
  },
  {
   "cell_type": "markdown",
   "id": "3a04e161",
   "metadata": {},
   "source": [
    "# Machine Learning Analysis\n",
    "---"
   ]
  },
  {
   "cell_type": "code",
   "execution_count": null,
   "id": "a8a782d2",
   "metadata": {},
   "outputs": [],
   "source": []
  },
  {
   "cell_type": "code",
   "execution_count": null,
   "id": "0884dc85",
   "metadata": {},
   "outputs": [],
   "source": []
  },
  {
   "cell_type": "code",
   "execution_count": null,
   "id": "f9b16e32",
   "metadata": {},
   "outputs": [],
   "source": []
  },
  {
   "cell_type": "code",
   "execution_count": null,
   "id": "bff335d6",
   "metadata": {},
   "outputs": [],
   "source": []
  },
  {
   "cell_type": "code",
   "execution_count": null,
   "id": "1667d3fd",
   "metadata": {},
   "outputs": [],
   "source": []
  },
  {
   "cell_type": "code",
   "execution_count": null,
   "id": "4898be5c",
   "metadata": {},
   "outputs": [],
   "source": []
  },
  {
   "cell_type": "code",
   "execution_count": null,
   "id": "bd1ac78f",
   "metadata": {},
   "outputs": [],
   "source": []
  },
  {
   "cell_type": "code",
   "execution_count": null,
   "id": "c913b873",
   "metadata": {},
   "outputs": [],
   "source": []
  },
  {
   "cell_type": "code",
   "execution_count": null,
   "id": "bc27ea98",
   "metadata": {},
   "outputs": [],
   "source": []
  }
 ],
 "metadata": {
  "kernelspec": {
   "display_name": "Python 3 (ipykernel)",
   "language": "python",
   "name": "python3"
  },
  "language_info": {
   "codemirror_mode": {
    "name": "ipython",
    "version": 3
   },
   "file_extension": ".py",
   "mimetype": "text/x-python",
   "name": "python",
   "nbconvert_exporter": "python",
   "pygments_lexer": "ipython3",
   "version": "3.9.13"
  }
 },
 "nbformat": 4,
 "nbformat_minor": 5
}
